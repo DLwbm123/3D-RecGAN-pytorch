{
 "cells": [
  {
   "cell_type": "code",
   "execution_count": 2,
   "metadata": {},
   "outputs": [],
   "source": [
    "from torchvision import datasets, transforms\n",
    "import os\n",
    "import torch\n",
    "import pandas as pd\n",
    "import numpy as np\n",
    "import re"
   ]
  },
  {
   "cell_type": "code",
   "execution_count": 9,
   "metadata": {},
   "outputs": [],
   "source": [
    "\n",
    "class Data:\n",
    "    def __init__(self,path):\n",
    "        ###############################################################\n",
    "        config={}\n",
    "        self.resolution = 64\n",
    "        # chair/stool/toilet\n",
    "        config['train_names'] = ['chair']\n",
    "        for name in config['train_names']:\n",
    "            config['X_train_'+name] = path+name+'/train_25d/voxel_grids_64/'\n",
    "            config['Y_train_'+name] = path+name+'/train_3d/voxel_grids_64/'\n",
    "        config['test_names']=['chair']\n",
    "        for name in config['test_names']:\n",
    "            config['X_test_'+name] = path+name+'/test_25d/voxel_grids_64/'\n",
    "            config['Y_test_'+name] = path+name+'/test_3d/voxel_grids_64/'\n",
    "        self.config = config\n",
    "        self.train_names = config['train_names']\n",
    "        self.test_names = config['test_names']\n",
    "\n",
    "        self.X_train_files, self.Y_train_files = self.load_X_Y_files_paths_all( self.train_names,label='train')\n",
    "        self.X_test_files, self.Y_test_files = self.load_X_Y_files_paths_all(self.test_names,label='test')\n",
    "        print ('X_train_files:',len(self.X_train_files))\n",
    "        print ('X_test_files:',len(self.X_test_files))\n",
    "\n",
    "\n",
    "    @staticmethod\n",
    "    def plotFromVoxels(voxels):\n",
    "        if len(voxels.shape)>3:\n",
    "            x_d = voxels.shape[0]\n",
    "            y_d = voxels.shape[1]\n",
    "            z_d = voxels.shape[2]\n",
    "            v = voxels[:,:,:,0]\n",
    "            v = np.reshape(v,(x_d,y_d,z_d))\n",
    "        else:\n",
    "            v = voxels\n",
    "        x, y, z = v.nonzero()\n",
    "        fig = plt.figure()\n",
    "        ax = fig.add_subplot(111, projection='3d')\n",
    "        ax.scatter(x, y, z, zdir='z', c='red')\n",
    "        plt.show()\n",
    "\n",
    "    def load_X_Y_files_paths_all(self, obj_names, label='train'):\n",
    "        x_str=''\n",
    "        y_str=''\n",
    "        if label =='train':\n",
    "            x_str='X_train_'\n",
    "            y_str ='Y_train_'\n",
    "\n",
    "        elif label == 'test':\n",
    "            x_str = 'X_test_'\n",
    "            y_str = 'Y_test_'\n",
    "\n",
    "        else:\n",
    "            print ('label error!!')\n",
    "            exit()\n",
    "\n",
    "        X_data_files_all = []\n",
    "        Y_data_files_all = []\n",
    "        for name in obj_names:\n",
    "            X_folder = self.config[x_str + name]\n",
    "            Y_folder = self.config[y_str + name]\n",
    "            X_data_files, Y_data_files = self.load_X_Y_files_paths(X_folder, Y_folder)\n",
    "\n",
    "            for X_f, Y_f in zip(X_data_files, Y_data_files):\n",
    "                if X_f[0:15] != Y_f[0:15]:\n",
    "                    print ('index inconsistent!!')\n",
    "                    exit()\n",
    "                X_data_files_all.append(X_folder + X_f)\n",
    "                Y_data_files_all.append(Y_folder + Y_f)\n",
    "        return X_data_files_all, Y_data_files_all\n",
    "\n",
    "    def load_X_Y_files_paths(self,X_folder, Y_folder):\n",
    "        X_data_files = [X_f for X_f in sorted(os.listdir(X_folder))]\n",
    "        Y_data_files = [Y_f for Y_f in sorted(os.listdir(Y_folder))]\n",
    "\n",
    "        return X_data_files, Y_data_files\n",
    "\n",
    "    def voxel_grid_padding(self,a):\n",
    "        x_d = a.shape[0]\n",
    "        y_d = a.shape[1]\n",
    "        z_d = a.shape[2]\n",
    "        channel = a.shape[3]\n",
    "        resolution = self.resolution\n",
    "        size = [resolution, resolution, resolution,channel]\n",
    "        b = np.zeros(size)\n",
    "\n",
    "        bx_s = 0;bx_e = size[0];by_s = 0;by_e = size[1];bz_s = 0; bz_e = size[2]\n",
    "        ax_s = 0;ax_e = x_d;ay_s = 0;ay_e = y_d;az_s = 0;az_e = z_d\n",
    "        if x_d > size[0]:\n",
    "            ax_s = int((x_d - size[0]) / 2)\n",
    "            ax_e = int((x_d - size[0]) / 2) + size[0]\n",
    "        else:\n",
    "            bx_s = int((size[0] - x_d) / 2)\n",
    "            bx_e = int((size[0] - x_d) / 2) + x_d\n",
    "\n",
    "        if y_d > size[1]:\n",
    "            ay_s = int((y_d - size[1]) / 2)\n",
    "            ay_e = int((y_d - size[1]) / 2) + size[1]\n",
    "        else:\n",
    "            by_s = int((size[1] - y_d) / 2)\n",
    "            by_e = int((size[1] - y_d) / 2) + y_d\n",
    "\n",
    "        if z_d > size[2]:\n",
    "            az_s = int((z_d - size[2]) / 2)\n",
    "            az_e = int((z_d - size[2]) / 2) + size[2]\n",
    "        else:\n",
    "            bz_s = int((size[2] - z_d) / 2)\n",
    "            bz_e = int((size[2] - z_d) / 2) + z_d\n",
    "        b[bx_s:bx_e, by_s:by_e, bz_s:bz_e,:] = a[ax_s:ax_e, ay_s:ay_e, az_s:az_e, :]\n",
    "\n",
    "        return b\n",
    "\n",
    "    def load_single_voxel_grid(self,path):\n",
    "        temp = re.split('_', path.split('.')[-2])\n",
    "        x_d = int(temp[len(temp) - 3])\n",
    "        y_d = int(temp[len(temp) - 2])\n",
    "        z_d = int(temp[len(temp) - 1])\n",
    "\n",
    "        a = np.loadtxt(path)\n",
    "        if len(a)<=0:\n",
    "            print ('load_single_voxel_grid error:', path)\n",
    "            exit()\n",
    "\n",
    "        voxel_grid = np.zeros((x_d, y_d, z_d,1))\n",
    "        for i in a:\n",
    "            voxel_grid[int(i[0]), int(i[1]), int(i[2]),0] = 1 # occupied\n",
    "\n",
    "        #Data.plotFromVoxels(voxel_grid)\n",
    "        voxel_grid = self.voxel_grid_padding(voxel_grid)\n",
    "        return voxel_grid\n",
    "\n",
    "    def load_X_Y_voxel_grids(self,X_data_files, Y_data_files):\n",
    "        if len(X_data_files) !=self.batch_size or len(Y_data_files)!=self.batch_size:\n",
    "            print ('load_X_Y_voxel_grids error:', X_data_files, Y_data_files)\n",
    "            exit()\n",
    "\n",
    "        X_voxel_grids = []\n",
    "        Y_voxel_grids = []\n",
    "        index = -1\n",
    "        for X_f, Y_f in zip(X_data_files, Y_data_files):\n",
    "            index += 1\n",
    "            X_voxel_grid = self.load_single_voxel_grid(X_f)\n",
    "            X_voxel_grids.append(X_voxel_grid)\n",
    "\n",
    "            Y_voxel_grid = self.load_single_voxel_grid(Y_f)\n",
    "            Y_voxel_grids.append(Y_voxel_grid)\n",
    "\n",
    "        X_voxel_grids = np.asarray(X_voxel_grids)\n",
    "        Y_voxel_grids = np.asarray(Y_voxel_grids)\n",
    "        return X_voxel_grids, Y_voxel_grids\n",
    "\n"
   ]
  },
  {
   "cell_type": "code",
   "execution_count": 10,
   "metadata": {
    "tags": []
   },
   "outputs": [
    {
     "output_type": "stream",
     "name": "stdout",
     "text": "X_train_files: 19050\nX_test_files: 1250\n"
    }
   ],
   "source": [
    "a = Data('/home/data/3d/3D-RecGAN_Data/')"
   ]
  },
  {
   "cell_type": "code",
   "execution_count": 14,
   "metadata": {},
   "outputs": [
    {
     "output_type": "execute_result",
     "data": {
      "text/plain": "19050"
     },
     "metadata": {},
     "execution_count": 14
    }
   ],
   "source": [
    "a.Y_test_files"
   ]
  },
  {
   "cell_type": "code",
   "execution_count": 12,
   "metadata": {},
   "outputs": [],
   "source": [
    "b = a.load_single_voxel_grid(a.X_test_files[0])"
   ]
  },
  {
   "cell_type": "code",
   "execution_count": 13,
   "metadata": {},
   "outputs": [
    {
     "output_type": "execute_result",
     "data": {
      "text/plain": "(64, 64, 64, 1)"
     },
     "metadata": {},
     "execution_count": 13
    }
   ],
   "source": [
    "b.shape"
   ]
  },
  {
   "cell_type": "code",
   "execution_count": 7,
   "metadata": {},
   "outputs": [
    {
     "output_type": "execute_result",
     "data": {
      "text/plain": "62_060.txt',\n '/home/data/3d/3D-RecGAN_Data/chair/train_25d/voxel_grids_64/chair_0011_4_3_2_063_053_053.txt',\n '/home/data/3d/3D-RecGAN_Data/chair/train_25d/voxel_grids_64/chair_0011_4_3_4_062_057_053.txt',\n '/home/data/3d/3D-RecGAN_Data/chair/train_25d/voxel_grids_64/chair_0011_4_4_0_059_062_052.txt',\n '/home/data/3d/3D-RecGAN_Data/chair/train_25d/voxel_grids_64/chair_0011_4_4_1_056_063_053.txt',\n '/home/data/3d/3D-RecGAN_Data/chair/train_25d/voxel_grids_64/chair_0011_4_4_3_057_063_044.txt',\n '/home/data/3d/3D-RecGAN_Data/chair/train_25d/voxel_grids_64/chair_0011_4_4_4_062_058_045.txt',\n '/home/data/3d/3D-RecGAN_Data/chair/train_25d/voxel_grids_64/chair_0012_0_0_1_061_041_027.txt',\n '/home/data/3d/3D-RecGAN_Data/chair/train_25d/voxel_grids_64/chair_0012_0_0_2_055_062_028.txt',\n '/home/data/3d/3D-RecGAN_Data/chair/train_25d/voxel_grids_64/chair_0012_0_0_3_055_062_028.txt',\n '/home/data/3d/3D-RecGAN_Data/chair/train_25d/voxel_grids_64/chair_0012_0_0_4_061_041_027.txt',\n '/home/data/3d/3D-RecGAN_Data/chair/train_25d/voxel_grids_64/chair_0012_0_1_1_063_053_032.txt',\n '/home/data/3d/3D-RecGAN_Data/chair/train_25d/voxel_grids_64/chair_0012_0_1_2_063_055_031.txt',\n '/home/data/3d/3D-RecGAN_Data/chair/train_25d/voxel_grids_64/chair_0012_0_1_3_040_061_028.txt',\n '/home/data/3d/3D-RecGAN_Data/chair/train_25d/voxel_grids_64/chair_0012_0_1_4_063_038_029.txt',\n '/home/data/3d/3D-RecGAN_Data/chair/train_25d/voxel_grids_64/chair_0012_0_2_0_036_061_037.txt',\n '/home/data/3d/3D-RecGAN_Data/chair/train_25d/voxel_grids_64/chair_0012_0_2_1_062_050_036.txt',\n '/home/data/3d/3D-RecGAN_Data/chair/train_25d/voxel_grids_64/chair_0012_0_2_2_063_062_037.txt',\n '/home/data/3d/3D-RecGAN_Data/chair/train_25d/voxel_grids_64/chair_0012_0_2_3_048_062_033.txt',\n '/home/data/3d/3D-RecGAN_Data/chair/train_25d/voxel_grids_64/chair_0012_0_3_0_036_061_037.txt',\n '/home/data/3d/3D-RecGAN_Data/chair/train_25d/voxel_grids_64/chair_0012_0_3_2_048_062_033.txt',\n '/home/data/3d/3D-RecGAN_Data/chair/train_25d/voxel_grids_64/chair_0012_0_3_3_063_062_037.txt',\n '/home/data/3d/3D-RecGAN_Data/chair/train_25d/voxel_grids_64/chair_0012_0_3_4_062_050_036.txt',\n '/home/data/3d/3D-RecGAN_Data/chair/train_25d/voxel_grids_64/chair_0012_0_4_0_036_063_032.txt',\n '/home/data/3d/3D-RecGAN_Data/chair/train_25d/voxel_grids_64/chair_0012_0_4_1_063_038_029.txt',\n '/home/data/3d/3D-RecGAN_Data/chair/train_25d/voxel_grids_64/chair_0012_0_4_2_040_061_028.txt',\n '/home/data/3d/3D-RecGAN_Data/chair/train_25d/voxel_grids_64/chair_0012_0_4_4_063_053_032.txt',\n '/home/data/3d/3D-RecGAN_Data/chair/train_25d/voxel_grids_64/chair_0012_1_0_0_026_033_061.txt',\n '/home/data/3d/3D-RecGAN_Data/chair/train_25d/voxel_grids_64/chair_0012_1_0_1_038_030_061.txt',\n '/home/data/3d/3D-RecGAN_Data/chair/train_25d/voxel_grids_64/chair_0012_1_0_2_036_039_061.txt',\n '/home/data/3d/3D-RecGAN_Data/chair/train_25d/voxel_grids_64/chair_0012_1_0_3_036_039_061.txt',\n '/home/data/3d/3D-RecGAN_Data/chair/train_25d/voxel_grids_64/chair_0012_1_1_0_062_032_039.txt',\n '/home/data/3d/3D-RecGAN_Data/chair/train_25d/voxel_grids_64/chair_0012_1_1_1_030_063_042.txt',\n '/home/data/3d/3D-RecGAN_Data/chair/train_25d/voxel_grids_64/chair_0012_1_1_2_063_048_044.txt',\n '/home/data/3d/3D-RecGAN_Data/chair/train_25d/voxel_grids_64/chair_0012_1_1_4_038_061_039.txt',\n '/home/data/3d/3D-RecGAN_Data/chair/train_25d/voxel_grids_64/chair_0012_1_2_1_033_054_062.txt',\n '/home/data/3d/3D-RecGAN_Data/chair/train_25d/voxel_grids_64/chair_0012_1_2_2_052_038_062.txt',\n '/home/data/3d/3D-RecGAN_Data/chair/train_25d/voxel_grids_64/chair_0012_1_2_3_047_045_062.txt',\n '/home/data/3d/3D-RecGAN_Data/chair/train_25d/voxel_grids_64/chair_0012_1_2_4_040_052_062.txt',\n '/home/data/3d/3D-RecGAN_Data/chair/train_25d/voxel_grids_64/chair_0012_1_3_1_040_053_062.txt',\n '/home/data/3d/3D-RecGAN_Data/chair/train_25d/voxel_grids_64/chair_0012_1_3_2_047_045_062.txt',\n '/home/data/3d/3D-RecGAN_Data/chair/train_25d/voxel_grids_64/chair_0012_1_3_3_052_038_062.txt',\n '/home/data/3d/3D-RecGAN_Data/chair/train_25d/voxel_grids_64/chair_0012_1_3_4_033_054_062.txt',\n '/home/data/3d/3D-RecGAN_Data/chair/train_25d/voxel_grids_64/chair_0012_1_4_0_062_032_039.txt',\n '/home/data/3d/3D-RecGAN_Data/chair/train_25d/voxel_grids_64/chair_0012_1_4_1_038_061_039.txt',\n '/home/data/3d/3D-RecGAN_Data/chair/train_25d/voxel_grids_64/chair_0012_1_4_2_061_053_044.txt',\n '/home/data/3d/3D-RecGAN_Data/chair/train_25d/voxel_grids_64/chair_0012_1_4_3_063_048_044.txt',\n '/home/data/3d/3D-RecGAN_Data/chair/train_25d/voxel_grids_64/chair_0012_2_0_0_027_063_039.txt',\n '/home/data/3d/3D-RecGAN_Data/chair/train_25d/voxel_grids_64/chair_0012_2_0_1_062_038_036.txt',\n '/home/data/3d/3D-RecGAN_Data/chair/train_25d/voxel_grids_64/chair_0012_2_0_3_054_063_039.txt',\n '/home/data/3d/3D-RecGAN_Data/chair/train_25d/voxel_grids_64/chair_0012_2_0_4_062_037_036.txt',\n '/home/data/3d/3D-RecGAN_Data/chair/train_25d/voxel_grids_64/chair_0012_2_1_0_044_063_036.txt',\n '/home/data/3d/3D-RecGAN_Data/chair/train_25d/voxel_grids_64/chair_0012_2_1_1_063_037_034.txt',\n '/home/data/3d/3D-RecGAN_Data/chair/train_25d/voxel_grids_64/chair_0012_2_1_2_034_062_036.txt',\n '/home/data/3d/3D-RecGAN_Data/chair/train_25d/voxel_grids_64/chair_0012_2_1_4_063_059_039.txt',\n '/home/data/3d/3D-RecGAN_Data/chair/train_25d/voxel_grids_64/chair_0012_2_2_1_063_033_041.txt',\n '/home/data/3d/3D-RecGAN_Data/chair/train_25d/voxel_grids_64/chair_0012_2_2_2_044_063_042.txt',\n '/home/data/3d/3D-RecGAN_Data/chair/train_25d/voxel_grids_64/chair_0012_2_2_3_063_059_046.txt',\n '/home/data/3d/3D-RecGAN_Data/chair/train_25d/voxel_grids_64/chair_0012_2_2_4_063_054_044.txt',\n '/home/data/3d/3D-RecGAN_Data/chair/train_25d/voxel_grids_64/chair_0012_2_3_0_042_063_044.txt',\n '/home/data/3d/3D-RecGAN_Data/chair/train_25d/voxel_grids_64/chair_0012_2_3_1_063_054_044.txt',\n '/home/data/3d/3D-RecGAN_Data/chair/train_25d/voxel_grids_64/chair_0012_2_3_2_063_059_046.txt',\n '/home/data/3d/3D-RecGAN_Data/chair/train_25d/voxel_grids_64/chair_0012_2_3_3_044_063_042.txt',\n '/home/data/3d/3D-RecGAN_Data/chair/train_25d/voxel_grids_64/chair_0012_2_4_1_063_058_039.txt',\n '/home/data/3d/3D-RecGAN_Data/chair/train_25d/voxel_grids_64/chair_0012_2_4_2_063_050_037.txt',\n '/home/data/3d/3D-RecGAN_Data/chair/train_25d/voxel_grids_64/chair_0012_2_4_3_034_062_036.txt',\n '/home/data/3d/3D-RecGAN_Data/chair/train_25d/voxel_grids_64/chair_0012_2_4_4_063_037_034.txt',\n '/home/data/3d/3D-RecGAN_Data/chair/train_25d/voxel_grids_64/chair_0012_3_0_0_029_052_061.txt',\n '/home/data/3d/3D-RecGAN_Data/chair/train_25d/voxel_grids_64/chair_0012_3_0_1_058_043_061.txt',\n '/home/data/3d/3D-RecGAN_Data/chair/train_25d/voxel_grids_64/chair_0012_3_0_3_053_058_061.txt',\n '/home/data/3d/3D-RecGAN_Data/chair/train_25d/voxel_grids_64/chair_0012_3_0_4_058_043_061.txt',\n '/home/data/3d/3D-RecGAN_Data/chair/train_25d/voxel_grids_64/chair_0012_3_1_1_038_062_035.txt',\n '/home/data/3d/3D-RecGAN_Data/chair/train_25d/voxel_grids_64/chair_0012_3_1_2_062_035_035.txt',\n '/home/data/3d/3D-RecGAN_Data/chair/train_25d/voxel_grids_64/chair_0012_3_1_3_032_062_038.txt',\n '/home/data/3d/3D-RecGAN_Data/chair/train_25d/voxel_grids_64/chair_0012_3_1_4_063_052_041.txt',\n '/home/data/3d/3D-RecGAN_Data/chair/train_25d/voxel_grids_64/chair_0012_3_2_0_055_053_063.txt',\n '/home/data/3d/3D-RecGAN_Data/chair/train_25d/voxel_grids_64/chair_0012_3_2_1_050_062_063.txt',\n '/home/data/3d/3D-RecGAN_Data/chair/train_25d/voxel_grids_64/chair_0012_3_2_2_063_045_060.txt',\n '/home/data/3d/3D-RecGAN_Data/chair/train_25d/voxel_grids_64/chair_0012_3_2_3_039_063_058.txt',\n '/home/data/3d/3D-RecGAN_Data/chair/train_25d/voxel_grids_64/chair_0012_3_3_0_055_053_063.txt',\n '/home/data/3d/3D-RecGAN_Data/chair/train_25d/voxel_grids_64/chair_0012_3_3_1_063_042_063.txt',\n '/home/data/3d/3D-RecGAN_Data/chair/train_25d/voxel_grids_64/chair_0012_3_3_2_039_062_058.txt',\n '/home/data/3d/3D-RecGAN_Data/chair/train_25d/voxel_grids_64/chair_0012_3_3_4_050_062_063.txt',\n '/home/data/3d/3D-RecGAN_Data/chair/train_25d/voxel_grids_64/chair_0012_3_4_1_063_052_041.txt',\n '/home/data/3d/3D-RecGAN_Data/chair/train_25d/voxel_grids_64/chair_0012_3_4_2_032_062_038.txt',\n '/home/data/3d/3D-RecGAN_Data/chair/train_25d/voxel_grids_64/chair_0012_3_4_3_062_035_035.txt',\n '/home/data/3d/3D-RecGAN_Data/chair/train_25d/voxel_grids_64/chair_0012_3_4_4_038_062_035.txt',\n '/home/data/3d/3D-RecGAN_Data/chair/train_25d/voxel_grids_64/chair_0012_4_0_0_030_050_063.txt',\n '/home/data/3d/3D-RecGAN_Data/chair/train_25d/voxel_grids_64/chair_0012_4_0_1_055_039_063.txt',\n '/home/data/3d/3D-RecGAN_Data/chair/train_25d/voxel_grids_64/chair_0012_4_0_2_049_054_063.txt',\n '/home/data/3d/3D-RecGAN_Data/chair/train_25d/voxel_grids_64/chair_0012_4_0_4_055_039_063.txt',\n '/home/data/3d/3D-RecGAN_Data/chair/train_25d/voxel_grids_64/chair_0012_4_1_0_061_044_042.txt',\n '/home/data/3d/3D-RecGAN_Data/chair/train_25d/voxel_grids_64/chair_0012_4_1_1_062_057_045.txt',\n '/home/data/3d/3D-RecGAN_Data/chair/train_25d/voxel_grids_64/chair_0012_4_1_2_041_063_040.txt',\n '/home/data/3d/3D-RecGAN_Data/chair/train_25d/voxel_grids_64/chair_0012_4_1_3_062_034_039.txt',\n '/home/data/3d/3D-RecGAN_Data/chair/train_25d/voxel_grids_64/chair_0012_4_2_1_058_048_063.txt',\n '/home/data/3d/3D-RecGAN_Data/chair/train_25d/voxel_grids_64/chair_0012_4_2_2_040_062_060.txt',\n '/home/data/3d/3D-RecGAN_Data/chair/train_25d/voxel_grids_64/chair_0012_4_2_3_062_035_060.txt',\n '/home/data/3d/3D-RecGAN_Data/chair/train_25d/voxel_grids_64/chair_0012_4_2_4_040_059_063.txt',\n '/home/data/3d/3D-RecGAN_Data/chair/train_25d/voxel_grids_64/chair_0012_4_3_0_056_046_063.txt',\n '/home/data/3d/3D-RecGAN_Data/chair/train_25d/voxel_grids_64/chair_0012_4_3_1_041_059_063.txt',\n '/home/data/3d/3D-RecGAN_Data/chair/train_25d/voxel_grids_64/chair_0012_4_3_3_041_062_060.txt',\n '/home/data/3d/3D-RecGAN_Data/chair/train_25d/voxel_grids_64/chair_0012_4_3_4_058_048_063.txt',\n '/home/data/3d/3D-RecGAN_Data/chair/train_25d/voxel_grids_64/chair_0012_4_4_0_061_044_042.txt',\n '/home/data/3d/3D-RecGAN_Data/chair/train_25d/voxel_grids_64/chair_0012_4_4_2_062_034_039.txt',\n '/home/data/3d/3D-RecGAN_Data/chair/train_25d/voxel_grids_64/chair_0012_4_4_3_041_063_041.txt',\n '/home/data/3d/3D-RecGAN_Data/chair/train_25d/voxel_grids_64/chair_0012_4_4_4_062_058_046.txt',\n '/home/data/3d/3D-RecGAN_Data/chair/train_25d/voxel_grids_64/chair_0013_0_0_0_028_061_034.txt',\n '/home/data/3d/3D-RecGAN_Data/chair/train_25d/voxel_grids_64/chair_0013_0_0_1_062_042_032.txt',\n '/home/data/3d/3D-RecGAN_Data/chair/train_25d/voxel_grids_64/chair_0013_0_0_2_056_063_033.txt',\n '/home/data/3d/3D-RecGAN_Data/chair/train_25d/voxel_grids_64/chair_0013_0_0_3_056_063_033.txt',\n '/home/data/3d/3D-RecGAN_Data/chair/train_25d/voxel_grids_64/chair_0013_0_1_0_041_061_037.txt',\n '/home/data/3d/3D-RecGAN_Data/chair/train_25d/voxel_grids_64/chair_0013_0_1_1_061_057_037.txt',\n '/home/data/3d/3D-RecGAN_Data/chair/train_25d/voxel_grids_64/chair_0013_0_1_2_063_051_034.txt',\n '/home/data/3d/3D-RecGAN_Data/chair/train_25d/voxel_grids_64/chair_0013_0_1_3_043_062_032.txt',\n '/home/data/3d/3D-RecGAN_Data/chair/train_25d/voxel_grids_64/chair_0013_0_2_1_062_056_042.txt',\n '/home/data/3d/3D-RecGAN_Data/chair/train_25d/voxel_grids_64/chair_0013_0_2_2_061_056_039.txt',\n '/home/data/3d/3D-RecGAN_Data/chair/train_25d/voxel_grids_64/chair_0013_0_2_3_047_063_038.txt',\n '/home/data/3d/3D-RecGAN_Data/chair/train_25d/voxel_grids_64/chair_0013_0_2_4_063_043_039.txt',\n '/home/data/3d/3D-RecGAN_Data/chair/train_25d/voxel_grids_64/chair_0013_0_3_1_063_043_039.txt',\n '/home/data/3d/3D-RecGAN_Data/chair/train_25d/voxel_grids_64/chair_0013_0_3_2_047_063_037.txt',\n '/home/data/3d/3D-RecGAN_Data/chair/train_25d/voxel_grids_64/chair_0013_0_3_3_061_056_039.txt',\n '/home/data/3d/3D-RecGAN_Data/chair/train_25d/voxel_grids_64/chair_0013_0_3_4_063_056_042.txt',\n '/home/data/3d/3D-RecGAN_Data/chair/train_25d/voxel_grids_64/chair_0013_0_4_0_041_061_037.txt',\n '/home/data/3d/3D-RecGAN_Data/chair/train_25d/voxel_grids_64/chair_0013_0_4_1_062_041_033.txt',\n '/home/data/3d/3D-RecGAN_Data/chair/train_25d/voxel_grids_64/chair_0013_0_4_2_043_062_032.txt',\n '/home/data/3d/3D-RecGAN_Data/chair/train_25d/voxel_grids_64/chair_0013_0_4_3_063_051_034.txt',\n '/home/data/3d/3D-RecGAN_Data/chair/train_25d/voxel_grids_64/chair_0013_1_0_1_043_036_063.txt',\n '/home/data/3d/3D-RecGAN_Data/chair/train_25d/voxel_grids_64/chair_0013_1_0_2_042_045_063.txt',\n '/home/data/3d/3D-RecGAN_Data/chair/train_25d/voxel_grids_64/chair_0013_1_0_3_043_045_063.txt',\n '/home/data/3d/3D-RecGAN_Data/chair/train_25d/voxel_grids_64/chair_0013_1_0_4_043_036_063.txt',\n '/home/data/3d/3D-RecGAN_Data/chair/train_25d/voxel_grids_64/chair_0013_1_1_0_063_034_041.txt',\n '/home/data/3d/3D-RecGAN_Data/chair/train_25d/voxel_grids_64/chair_0013_1_1_1_033_062_044.txt',\n '/home/data/3d/3D-RecGAN_Data/chair/train_25d/voxel_grids_64/chair_0013_1_1_2_063_053_047.txt',\n '/home/data/3d/3D-RecGAN_Data/chair/train_25d/voxel_grids_64/chair_0013_1_1_4_040_063_041.txt',\n '/home/data/3d/3D-RecGAN_Data/chair/train_25d/voxel_grids_64/chair_0013_1_2_0_055_036_063.txt',\n '/home/data/3d/3D-RecGAN_Data/chair/train_25d/voxel_grids_64/chair_0013_1_2_1_037_053_063.txt',\n '/home/data/3d/3D-RecGAN_Data/chair/train_25d/voxel_grids_64/chair_0013_1_2_2_051_042_063.txt',\n '/home/data/3d/3D-RecGAN_Data/chair/train_25d/voxel_grids_64/chair_0013_1_2_3_051_046_063.txt',\n '/home/data/3d/3D-RecGAN_Data/chair/train_25d/voxel_grids_64/chair_0013_1_3_0_055_036_063.txt',\n '/home/data/3d/3D-RecGAN_Data/chair/train_25d/voxel_grids_64/chair_0013_1_3_1_043_056_063.txt',\n '/home/data/3d/3D-RecGAN_Data/chair/train_25d/voxel_grids_64/chair_0013_1_3_2_051_046_063.txt',\n '/home/data/3d/3D-RecGAN_Data/chair/train_25d/voxel_grids_64/chair_0013_1_3_3_051_042_063.txt',\n '/home/data/3d/3D-RecGAN_Data/chair/train_25d/voxel_grids_64/chair_0013_1_4_0_063_034_041.txt',\n '/home/data/3d/3D-RecGAN_Data/chair/train_25d/voxel_grids_64/chair_0013_1_4_1_040_063_041.txt',\n '/home/data/3d/3D-RecGAN_Data/chair/train_25d/voxel_grids_64/chair_0013_1_4_3_063_053_047.txt',\n '/home/data/3d/3D-RecGAN_Data/chair/train_25d/voxel_grids_64/chair_0013_1_4_4_033_061_044.txt',\n '/home/data/3d/3D-RecGAN_Data/chair/train_25d/voxel_grids_64/chair_0013_2_0_0_026_063_041.txt',\n '/home/data/3d/3D-RecGAN_Data/chair/train_25d/voxel_grids_64/chair_0013_2_0_1_063_041_038.txt',\n '/home/data/3d/3D-RecGAN_Data/chair/train_25d/voxel_grids_64/chair_0013_2_0_2_055_063_039.txt',\n '/home/data/3d/3D-RecGAN_Data/chair/train_25d/voxel_grids_64/chair_0013_2_0_4_063_041_038.txt',\n '/home/data/3d/3D-RecGAN_Data/chair/train_25d/voxel_grids_64/chair_0013_2_1_0_046_063_037.txt',\n '/home/data/3d/3D-RecGAN_Data/chair/train_25d/voxel_grids_64/chair_0013_2_1_1_063_041_036.txt',\n '/home/data/3d/3D-RecGAN_Data/chair/train_25d/voxel_grids_64/chair_0013_2_1_3_061_053_039.txt',\n '/home/data/3d/3D-RecGAN_Data/chair/train_25d/voxel_grids_64/chair_0013_2_1_4_062_054_039.txt',\n '/home/data/3d/3D-RecGAN_Data/chair/train_25d/voxel_grids_64/chair_0013_2_2_0_045_063_048.txt',\n '/home/data/3d/3D-RecGAN_Data/chair/train_25d/voxel_grids_64/chair_0013_2_2_2_046_062_044.txt',\n '/home/data/3d/3D-RecGAN_Data/chair/train_25d/voxel_grids_64/chair_0013_2_2_3_061_063_049.txt',\n '/home/data/3d/3D-RecGAN_Data/chair/train_25d/voxel_grids_64/chair_0013_2_2_4_063_051_046.txt',\n '/home/data/3d/3D-RecGAN_Data/chair/train_25d/voxel_grids_64/chair_0013_2_3_0_044_063_048.txt',\n '/home/data/3d/3D-RecGAN_Data/chair/train_25d/voxel_grids_64/chair_0013_2_3_1_062_051_046.txt',\n '/home/data/3d/3D-RecGAN_Data/chair/train_25d/voxel_grids_64/chair_0013_2_3_2_061_063_050.txt',\n '/home/data/3d/3D-RecGAN_Data/chair/train_25d/voxel_grids_64/chair_0013_2_3_4_063_038_045.txt',\n '/home/data/3d/3D-RecGAN_Data/chair/train_25d/voxel_grids_64/chair_0013_2_4_0_046_063_037.txt',\n '/home/data/3d/3D-RecGAN_Data/chair/train_25d/voxel_grids_64/chair_0013_2_4_1_062_054_038.txt',\n '/home/data/3d/3D-RecGAN_Data/chair/train_25d/voxel_grids_64/chair_0013_2_4_2_061_053_038.txt',\n '/home/data/3d/3D-RecGAN_Data/chair/train_25d/voxel_grids_64/chair_0013_2_4_4_063_041_035.txt',\n '/home/data/3d/3D-RecGAN_Data/chair/train_25d/voxel_grids_64/chair_0013_3_0_0_028_051_062.txt',\n '/home/data/3d/3D-RecGAN_Data/chair/train_25d/voxel_grids_64/chair_0013_3_0_1_056_042_062.txt',\n '/home/data/3d/3D-RecGAN_Data/chair/train_25d/voxel_grids_64/chair_0013_3_0_3_052_057_062.txt',\n '/home/data/3d/3D-RecGAN_Data/chair/train_25d/voxel_grids_64/chair_0013_3_0_4_056_042_062.txt',\n '/home/data/3d/3D-RecGAN_Data/chair/train_25d/voxel_grids_64/chair_0013_3_1_0_062_047_042.txt',\n '/home/data/3d/3D-RecGAN_Data/chair/train_25d/voxel_grids_64/chair_0013_3_1_2_062_039_039.txt',\n '/home/data/3d/3D-RecGAN_Data/chair/train_25d/voxel_grids_64/chair_0013_3_1_3_038_063_044.txt',\n '/home/data/3d/3D-RecGAN_Data/chair/train_25d/voxel_grids_64/chair_0013_3_1_4_063_057_047.txt',\n '/home/data/3d/3D-RecGAN_Data/chair/train_25d/voxel_grids_64/chair_0013_3_2_0_054_047_061.txt',\n '/home/data/3d/3D-RecGAN_Data/chair/train_25d/voxel_grids_64/chair_0013_3_2_1_046_060_061.txt',\n '/home/data/3d/3D-RecGAN_Data/chair/train_25d/voxel_grids_64/chair_0013_3_2_3_044_061_061.txt',\n '/home/data/3d/3D-RecGAN_Data/chair/train_25d/voxel_grids_64/chair_0013_3_2_4_056_044_061.txt',\n '/home/data/3d/3D-RecGAN_Data/chair/train_25d/voxel_grids_64/chair_0013_3_3_1_056_043_061.txt',\n '/home/data/3d/3D-RecGAN_Data/chair/train_25d/voxel_grids_64/chair_0013_3_3_2_044_061_061.txt',\n '/home/data/3d/3D-RecGAN_Data/chair/train_25d/voxel_grids_64/chair_0013_3_3_3_060_047_061.txt',\n '/home/data/3d/3D-RecGAN_Data/chair/train_25d/voxel_grids_64/chair_0013_3_3_4_046_060_061.txt',\n '/home/data/3d/3D-RecGAN_Data/chair/train_25d/voxel_grids_64/chair_0013_3_4_1_063_058_047.txt',\n '/home/data/3d/3D-RecGAN_Data/chair/train_25d/voxel_grids_64/chair_0013_3_4_2_038_063_044.txt',\n '/home/data/3d/3D-RecGAN_Data/chair/train_25d/voxel_grids_64/chair_0013_3_4_3_062_038_039.txt',\n '/home/data/3d/3D-RecGAN_Data/chair/train_25d/voxel_grids_64/chair_0013_3_4_4_040_063_039.txt',\n '/home/data/3d/3D-RecGAN_Data/chair/train_25d/voxel_grids_64/chair_0013_4_0_1_058_044_061.txt',\n '/home/data/3d/3D-RecGAN_Data/chair/train_25d/voxel_grids_64/chair_0013_4_0_2_054_059_061.txt',\n '/home/data/3d/3D-RecGAN_Data/chair/train_25d/voxel_grids_64/chair_0013_4_0_3_053_059_061.txt',\n '/home/data/3d/3D-RecGAN_Data/chair/train_25d/voxel_grids_64/chair_0013_4_0_4_058_043_061.txt',\n '/home/data/3d/3D-RecGAN_Data/chair/train_25d/voxel_grids_64/chair_0013_4_1_0_061_048_043.txt',\n '/home/data/3d/3D-RecGAN_Data/chair/train_25d/voxel_grids_64/chair_0013_4_1_1_062_053_043.txt',\n '/home/data/3d/3D-RecGAN_Data/chair/train_25d/voxel_grids_64/chair_0013_4_1_3_063_038_038.txt',\n '/home/data/3d/3D-RecGAN_Data/chair/train_25d/voxel_grids_64/chair_0013_4_1_4_034_062_041.txt',\n '/home/data/3d/3D-RecGAN_Data/chair/train_25d/voxel_grids_64/chair_0013_4_2_0_056_050_063.txt',\n '/home/data/3d/3D-RecGAN_Data/chair/train_25d/voxel_grids_64/chair_0013_4_2_2_043_062_056.txt',\n '/home/data/3d/3D-RecGAN_Data/chair/train_25d/voxel_grids_64/chair_0013_4_2_3_062_039_056.txt',\n '/home/data/3d/3D-RecGAN_Data/chair/train_25d/voxel_grids_64/chair_0013_4_2_4_046_063_063.txt',\n '/home/data/3d/3D-RecGAN_Data/chair/train_25d/voxel_grids_64/chair_0013_4_3_0_056_050_063.txt',\n '/home/data/3d/3D-RecGAN_Data/chair/train_25d/voxel_grids_64/chair_0013_4_3_1_046_063_063.txt',\n '/home/data/3d/3D-RecGAN_Data/chair/train_25d/voxel_grids_64/chair_0013_4_3_3_044_062_056.txt',\n '/home/data/3d/3D-RecGAN_Data/chair/train_25d/voxel_grids_64/chair_0013_4_3_4_063_050_063.txt',\n '/home/data/3d/3D-RecGAN_Data/chair/train_25d/voxel_grids_64/chair_0013_4_4_0_061_048_043.txt',\n '/home/data/3d/3D-RecGAN_Data/chair/train_25d/voxel_grids_64/chair_0013_4_4_1_034_062_041.txt',\n '/home/data/3d/3D-RecGAN_Data/chair/train_25d/voxel_grids_64/chair_0013_4_4_3_042_062_038.txt',\n '/home/data/3d/3D-RecGAN_Data/chair/train_25d/voxel_grids_64/chair_0013_4_4_4_062_054_043.txt',\n ...]"
     },
     "metadata": {},
     "execution_count": 7
    }
   ],
   "source": [
    "a.X_train_files"
   ]
  },
  {
   "cell_type": "code",
   "execution_count": null,
   "metadata": {},
   "outputs": [],
   "source": []
  }
 ],
 "metadata": {
  "language_info": {
   "codemirror_mode": {
    "name": "ipython",
    "version": 3
   },
   "file_extension": ".py",
   "mimetype": "text/x-python",
   "name": "python",
   "nbconvert_exporter": "python",
   "pygments_lexer": "ipython3",
   "version": "3.6.4-final"
  },
  "orig_nbformat": 2,
  "kernelspec": {
   "name": "python36464bitbaseconda659534b5d6be45d0843cb1cf3bc8e578",
   "display_name": "Python 3.6.4 64-bit ('base': conda)"
  }
 },
 "nbformat": 4,
 "nbformat_minor": 2
}