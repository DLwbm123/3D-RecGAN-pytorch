{
 "cells": [
  {
   "cell_type": "code",
   "execution_count": 1,
   "metadata": {},
   "outputs": [],
   "source": [
    "import torch"
   ]
  },
  {
   "cell_type": "code",
   "execution_count": 16,
   "metadata": {},
   "outputs": [],
   "source": [
    "a = torch.Tensor([0.6,0.1,0.8])\n",
    "b = torch.Tensor([0.7,0.6,0.4])"
   ]
  },
  {
   "cell_type": "code",
   "execution_count": 11,
   "metadata": {},
   "outputs": [
    {
     "output_type": "execute_result",
     "data": {
      "text/plain": "tensor(0)"
     },
     "metadata": {},
     "execution_count": 11
    }
   ],
   "source": [
    "torch.sum((a > 0.5) & (b > 0.5))/torch.sum((a > 0.5) | (b > 0.5))"
   ]
  },
  {
   "cell_type": "code",
   "execution_count": 17,
   "metadata": {},
   "outputs": [
    {
     "output_type": "execute_result",
     "data": {
      "text/plain": "tensor(0.3333)"
     },
     "metadata": {},
     "execution_count": 17
    }
   ],
   "source": [
    "torch.sum((a > 0.5) & (b > 0.5)) / torch.sum((a > 0.5) | (b > 0.5)).float()"
   ]
  },
  {
   "cell_type": "code",
   "execution_count": 13,
   "metadata": {},
   "outputs": [
    {
     "output_type": "execute_result",
     "data": {
      "text/plain": "tensor(376)"
     },
     "metadata": {},
     "execution_count": 13
    }
   ],
   "source": [
    "torch.sum((a > 0.5) | (b > 0.5))"
   ]
  },
  {
   "cell_type": "code",
   "execution_count": 10,
   "metadata": {},
   "outputs": [],
   "source": [
    "\n",
    "def cross_entropy(a, y):\n",
    "    \n",
    "    # y [0,1]\n",
    "    # print(torch.log(a+1e-8))\n",
    "    # print(torch.log(1-a+1e-8))\n",
    "    # print(-y*torch.log(a+1e-8))\n",
    "    # print((1-y)*torch.log(1-a+1e-8))\n",
    "    # print(-y*torch.log(a+1e-8)-(1-y)*torch.log(1-a+1e-8))\n",
    "    return torch.sum(-y*torch.log(a+1e-8)-(1-y)*torch.log(1-a+1e-8))"
   ]
  },
  {
   "cell_type": "code",
   "execution_count": 14,
   "metadata": {},
   "outputs": [],
   "source": [
    "a = torch.Tensor([[0.6,0.1,0.8],[0.6,0.1,0.8]])\n",
    "b = torch.Tensor([[0.7,0.6,0.4],[0.7,0.6,0.4]])"
   ]
  },
  {
   "cell_type": "code",
   "execution_count": 19,
   "metadata": {},
   "outputs": [
    {
     "output_type": "execute_result",
     "data": {
      "text/plain": "tensor(3.1111)"
     },
     "metadata": {},
     "execution_count": 19
    }
   ],
   "source": [
    "cross_entropy(a,b)"
   ]
  },
  {
   "cell_type": "code",
   "execution_count": null,
   "metadata": {},
   "outputs": [],
   "source": []
  }
 ],
 "metadata": {
  "language_info": {
   "codemirror_mode": {
    "name": "ipython",
    "version": 3
   },
   "file_extension": ".py",
   "mimetype": "text/x-python",
   "name": "python",
   "nbconvert_exporter": "python",
   "pygments_lexer": "ipython3",
   "version": 3
  },
  "orig_nbformat": 2,
  "kernelspec": {
   "name": "python_defaultSpec_1593311266081",
   "display_name": "Python 3.6.10 64-bit ('3D': conda)"
  }
 },
 "nbformat": 4,
 "nbformat_minor": 2
}